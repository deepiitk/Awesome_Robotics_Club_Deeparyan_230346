{
 "cells": [
  {
   "cell_type": "code",
   "execution_count": 67,
   "metadata": {},
   "outputs": [],
   "source": [
    "\n",
    "import math\n",
    "import numpy as np\n",
    "\n",
    "def turn(n):\n",
    "    return np.clip(n, -1, 1)\n",
    "\n",
    "def D(x1, y1, x2, y2):\n",
    "    return math.sqrt((x1 - x2) ** 2 + (y1 - y2) ** 2)\n",
    "\n",
    "def fabrik(x0=0, z0=23, x1=0, z1=38, x2=0, z2=43, x=10, z=20, l1=15, l2=5, maxi=50000, tolerance=0.00000001):\n",
    "    j0 = np.array([x0, z0])\n",
    "    j1 = np.array([x1, z1])\n",
    "    j2 = np.array([x2, z2])\n",
    "    reached = False\n",
    "    for i in range(maxi):\n",
    "        joint_dash2 = np.array([x, z])\n",
    "        dis = D(x, z, j1[0], j1[1])\n",
    "        joint_dash1 = (((dis - l2) * np.array([x, z])) + l2 * j1) / dis\n",
    "        dis = D(j0[0], j0[1], j1[0], j1[1])\n",
    "        joint_dash0 = (((dis - l1) * j1) + l1 * j0) / dis\n",
    "        j0 = np.array([x0, z0])\n",
    "        dis = D(j0[0], j0[1], joint_dash1[0], joint_dash1[1])\n",
    "        j1 = ((l1 * joint_dash1) + ((dis - l1) * j0)) / dis\n",
    "        dis = D(j1[0], j1[1], joint_dash2[0], joint_dash2[1])\n",
    "        j2 = ((l2 * joint_dash2) + ((dis - l2) * j1)) / dis\n",
    "\n",
    "        if D(j2[0], j2[1], x, z) < tolerance:\n",
    "            reached = True\n",
    "            \n",
    "            break\n",
    "\n",
    "    if i == 50000 and not reached:\n",
    "        print(\"Not reached\")\n",
    "\n",
    "    if j1[0] - j0[0] == 0:\n",
    "        angle1 = math.pi / 2\n",
    "    else:\n",
    "        angle1 = math.atan((j1[1] - j0[1]) / (j1[0] - j0[0]))\n",
    "\n",
    "    if x1 == x0:\n",
    "        initialangle1 = math.pi / 2\n",
    "    else:\n",
    "        initialangle1 = math.atan((z1 - z0) / (x1 - x0))\n",
    "\n",
    "    anglerevolve1 = -((angle1 - initialangle1) * 180) / math.pi\n",
    "    print(j1, j2)\n",
    "\n",
    "    angle2 = math.acos(turn(((j2[0] - j1[0]) * (j1[0] - j0[0]) + (j2[1] - j1[1]) * (\n",
    "                j1[1] - j0[1])) / (l1 * l2)))\n",
    "    initialangle2 = math.acos(\n",
    "        turn(((x2 - x1) * (x1 - x0) + (z2 - z1) * (z1 - z0)) / (l1 * l2)))\n",
    "    anglerevolve2 = ((angle2 - initialangle2) * 180) / math.pi\n",
    "\n",
    "    return anglerevolve1, anglerevolve2\n",
    "\n",
    "def robo(xi, yi, zi):\n",
    "    angle1, angle2 = fabrik(x=round(D(0, 0, xi, yi), 6), z=zi)\n",
    "    \n",
    "    if xi == 0 and yi > 0:\n",
    "        base_theta = 90\n",
    "    elif xi == 0 and yi < 0:\n",
    "        base_theta = -90\n",
    "    elif xi == 0 and yi == 0:\n",
    "        base_theta = 0\n",
    "    else:\n",
    "        base_theta = (math.atan(yi / xi) * 180) / (math.pi)\n",
    "    \n",
    "    print(\"rotate base motor at firts joint by {} degrees\".format(base_theta))\n",
    "    print(\"Move motor at joint1 by {} degrees\".format(angle1))\n",
    "    print(\"Move motor at joint2 by {} degrees\".format(angle2))\n",
    "\n",
    "robo(10, 10, 10)"
   ]
  },
  {
   "cell_type": "code",
   "execution_count": 75,
   "metadata": {},
   "outputs": [
    {
     "name": "stdout",
     "output_type": "stream",
     "text": [
      "reached at 194th iteration\n",
      "[10.598984796003927, 12.385786826425726] [12.99999999535789, 8.000000008479457]\n",
      "move base motor at joint1 by 22.619864948040426 degrees\n",
      "move motor at joint1 by 135.04113107391828 degrees\n",
      "move motor at joint2 by 16.260205219988755 degrees\n"
     ]
    }
   ],
   "source": [
    "robo(12,5,8)"
   ]
  },
  {
   "cell_type": "code",
   "execution_count": null,
   "metadata": {},
   "outputs": [],
   "source": []
  }
 ],
 "metadata": {
  "kernelspec": {
   "display_name": "Python 3",
   "language": "python",
   "name": "python3"
  },
  "language_info": {
   "codemirror_mode": {
    "name": "ipython",
    "version": 3
   },
   "file_extension": ".py",
   "mimetype": "text/x-python",
   "name": "python",
   "nbconvert_exporter": "python",
   "pygments_lexer": "ipython3",
   "version": "3.11.4"
  }
 },
 "nbformat": 4,
 "nbformat_minor": 2
}
